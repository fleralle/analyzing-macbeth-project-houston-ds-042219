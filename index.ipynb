{
 "cells": [
  {
   "cell_type": "markdown",
   "metadata": {},
   "source": [
    "# Project: Analyzing Macbeth\n",
    "\n",
    "## Introduction\n",
    "For our first day and first data science project, we're going to do some rudimentry analysis of Shakespeare's classic play: Macbeth! You will get practice working with lists, condtionals and dictionaries, visualizing data, and thinking analytically about data.\n",
    "\n",
    "## Objectives\n",
    "You will be able to:\n",
    "* Show mastery of the content covered in this section\n",
    "\n",
    "## Getting the Data\n",
    "Here we start by importing a python package and using it to pull the transcript of Macbeth from the project Gutenberg website. We also preview a few details about what is now stored in the variable macbeth; it's a string with 119,846 characters, the first 500 of which are printed below. "
   ]
  },
  {
   "cell_type": "code",
   "execution_count": 1,
   "metadata": {},
   "outputs": [
    {
     "name": "stdout",
     "output_type": "stream",
     "text": [
      "<class 'str'>\n",
      "119846\n",
      "﻿***The Project Gutenberg's Etext of Shakespeare's First Folio***\r\n",
      "********************The Tragedie of Macbeth*********************\r\n",
      "\r\n",
      "This is our 3rd edition of most of these plays.  See the index.\r\n",
      "\r\n",
      "\r\n",
      "Copyright laws are changing all over the world, be sure to check\r\n",
      "the copyright laws for your country before posting these files!!\r\n",
      "\r\n",
      "Please take a look at the important information in this header.\r\n",
      "We encourage you to keep this file on your own disk, keeping an\r\n",
      "electronic path open for the nex\n"
     ]
    }
   ],
   "source": [
    "import requests\n",
    "macbeth = requests.get('http://www.gutenberg.org/cache/epub/2264/pg2264.txt').text\n",
    "\n",
    "print(type(macbeth))\n",
    "print(len(macbeth))\n",
    "print(macbeth[:500])"
   ]
  },
  {
   "cell_type": "markdown",
   "metadata": {},
   "source": [
    "## Your Task\n",
    "\n",
    "Your task is to create a bar graph of the 25 most common words in Shakespeare's Macbeth.  \n",
    "\n",
    "\n",
    "A common python programming pattern to counting objects, produce histograms, or update statistics is to make calls to a dictionary as you iterate through a list. For example, given a list of words, you can create a dictionary to store counts and then iterate through the list of words, checking how many times each word has appeared using your dictionary, and updating the dictionary count now that you've seen that word again. The `dictionary.get()` method is very useful in doing this. Read the docstring for the dictionary.get() method and use it along with the pseudocode above to create a bar graph of the 25 most common words from the transcript of Macbeth which has been loaded into a variable 'Macbeth'. Be sure to include a title and appropriate labels for your graph."
   ]
  },
  {
   "cell_type": "code",
   "execution_count": 10,
   "metadata": {},
   "outputs": [],
   "source": [
    "import matplotlib.pyplot as plt\n",
    "import requests\n",
    "\n",
    "%matplotlib notebook\n",
    "\n",
    "macbeth = requests.get('http://www.gutenberg.org/cache/epub/2264/pg2264.txt').text\n",
    "\n",
    "# Your code here\n",
    "\n",
    "# Pseudo-code Outline\n",
    "# Split the transcript into words\n",
    "lines = macbeth.split('\\r\\n')\n",
    "body = \" \".join(lines[379:])\n",
    "# words = body.split(' ')\n",
    "\n",
    "for sentence in body:\n",
    "    if 'haue' in sentence:\n",
    "        print('found : ' + sentence)"
   ]
  },
  {
   "cell_type": "code",
   "execution_count": 23,
   "metadata": {},
   "outputs": [
    {
     "data": {
      "text/plain": [
       "'lower'"
      ]
     },
     "execution_count": 23,
     "metadata": {},
     "output_type": "execute_result"
    }
   ],
   "source": [
    "def sanitise(word):\n",
    "    return word.replace(\".\", \"\")\n",
    "\n",
    "def lowerise(word):\n",
    "    return word.lower()\n",
    "\n",
    "def runall_sanitize_funcs(funcs, word):\n",
    "    output = word\n",
    "    for func in funcs:\n",
    "        output = func(output)\n",
    "        \n",
    "    return output\n",
    "\n",
    "# sanitised_word_list = list(map(sanitise, words))\n",
    "clean = runall_sanitize_funcs([sanitise, lowerise], 'LoweR.')\n",
    "clean"
   ]
  },
  {
   "cell_type": "code",
   "execution_count": 13,
   "metadata": {},
   "outputs": [
    {
     "name": "stdout",
     "output_type": "stream",
     "text": [
      "\n"
     ]
    },
    {
     "data": {
      "text/plain": [
       "'\\ndictionary = {}\\nfor word in words:\\n    if word is not \"\":\\n        clean_word = word.replace(\".\", \"\").lower()\\n        if clean_word in dictionary.keys():\\n            dictionary[clean_word] += 1\\n        else:\\n            dictionary[clean_word] = 1\\nsorted_dictionary = sorted(dictionary.items(), key=lambda kv : kv[1], reverse=True)\\ntop_words = sorted_dictionary[:25]\\n    \\nplt.title(\"top 25 words in macbeth Shakespeare doesn\\'t want you to know about\")\\nplt.xlabel(\\'Usage\\')\\ny_values = list(map(lambda tuple: tuple[1], top_words))\\nx_values = list(map(lambda tuple: tuple[0], top_words))\\n\\nplt.barh(x_values, y_values)\\n# plt.figure(figsize=(3,2))\\nplt.show()\\n\\n'"
      ]
     },
     "execution_count": 13,
     "metadata": {},
     "output_type": "execute_result"
    }
   ],
   "source": [
    "import matplotlib.pyplot as plt\n",
    "import requests\n",
    "\n",
    "%matplotlib notebook\n",
    "\n",
    "macbeth = requests.get('http://www.gutenberg.org/cache/epub/2264/pg2264.txt').text\n",
    "\n",
    "# Your code here\n",
    "\n",
    "# Pseudo-code Outline\n",
    "# Split the transcript into words\n",
    "lines = macbeth.split('\\r\\n')\n",
    "body = \" \".join(lines[379:])\n",
    "words = body.split(' ')\n",
    "players = ['macb', 'blablabla']\n",
    "\n",
    "def sanitise(word):\n",
    "    return word.replace(\".\", \"\")\n",
    "\n",
    "def lowerise(word):\n",
    "    return word.lower()\n",
    "\n",
    "def remove_players(word):\n",
    "    return word not in players\n",
    "\n",
    "def runall_sanitize_funcs(funcs, word):\n",
    "    output = word\n",
    "    for func in funcs:\n",
    "        output = func(output)\n",
    "        \n",
    "    return output\n",
    "\n",
    "# sanitised_word_list = list(map(sanitise, words))\n",
    "clean = runall_sanitize_funcs([sanitise, lowerise], words[0])\n",
    "print(clean)\n",
    "\n",
    "\n",
    "\n",
    "# sanitised_word_list = list(filter(runall_sanitize_funcs, sanitised_word_list))\n",
    "'''\n",
    "dictionary = {}\n",
    "for word in words:\n",
    "    if word is not \"\":\n",
    "        clean_word = word.replace(\".\", \"\").lower()\n",
    "        if clean_word in dictionary.keys():\n",
    "            dictionary[clean_word] += 1\n",
    "        else:\n",
    "            dictionary[clean_word] = 1\n",
    "sorted_dictionary = sorted(dictionary.items(), key=lambda kv : kv[1], reverse=True)\n",
    "top_words = sorted_dictionary[:25]\n",
    "    \n",
    "plt.title(\"top 25 words in macbeth Shakespeare doesn't want you to know about\")\n",
    "plt.xlabel('Usage')\n",
    "y_values = list(map(lambda tuple: tuple[1], top_words))\n",
    "x_values = list(map(lambda tuple: tuple[0], top_words))\n",
    "\n",
    "plt.barh(x_values, y_values)\n",
    "# plt.figure(figsize=(3,2))\n",
    "plt.show()\n",
    "\n",
    "'''\n",
    "\n",
    "\n",
    "# Create a dictionary\n",
    "# Iterate through the text of Macbeth\n",
    "# Update word counts\n",
    "# Create Bar Graph\n",
    "# Include descriptive titles and labels"
   ]
  },
  {
   "cell_type": "markdown",
   "metadata": {},
   "source": [
    "## Level Up (Optional)\n",
    "This project should take you about an hour and a half to complete. If you're done much more quickly than that and are not behind in the course, feel free to deepen your knowledge by completing any or all of the following tasks until you run out of time:\n",
    "* Create a list of top characters by mentions of their names \n",
    "* Split the text by which character is talking\n",
    "* Create subgraphs of the most common words by character\n",
    "* Reduce the string to the text of the play itself. (Remove any initial notes, forward, introduction, appendix, etc.)\n",
    "* Come up with some other fun analyses of the text!\n",
    "\n",
    "## Summary\n",
    "Congratulations! You've got some extra practice combining various data types into useful programming patterns and done an initial analysis of a classic text!"
   ]
  },
  {
   "cell_type": "code",
   "execution_count": null,
   "metadata": {},
   "outputs": [],
   "source": []
  }
 ],
 "metadata": {
  "kernelspec": {
   "display_name": "Python 3",
   "language": "python",
   "name": "python3"
  },
  "language_info": {
   "codemirror_mode": {
    "name": "ipython",
    "version": 3
   },
   "file_extension": ".py",
   "mimetype": "text/x-python",
   "name": "python",
   "nbconvert_exporter": "python",
   "pygments_lexer": "ipython3",
   "version": "3.6.6"
  }
 },
 "nbformat": 4,
 "nbformat_minor": 2
}
